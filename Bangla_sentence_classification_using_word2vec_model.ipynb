{
  "nbformat": 4,
  "nbformat_minor": 0,
  "metadata": {
    "colab": {
      "name": " Bangla sentence classification using word2vec model.ipynb",
      "version": "0.3.2",
      "provenance": [],
      "collapsed_sections": [],
      "include_colab_link": true
    },
    "kernelspec": {
      "name": "python3",
      "display_name": "Python 3"
    }
  },
  "cells": [
    {
      "cell_type": "markdown",
      "metadata": {
        "id": "view-in-github",
        "colab_type": "text"
      },
      "source": [
        "<a href=\"https://colab.research.google.com/github/saklain31/sentence_classification/blob/master/Bangla_sentence_classification_using_word2vec_model.ipynb\" target=\"_parent\"><img src=\"https://colab.research.google.com/assets/colab-badge.svg\" alt=\"Open In Colab\"/></a>"
      ]
    },
    {
      "cell_type": "code",
      "metadata": {
        "id": "W00Ddnx4QyF7",
        "colab_type": "code",
        "colab": {}
      },
      "source": [
        "import pandas as pd\n",
        "import nltk\n",
        "import gensim\n",
        "import numpy as np\n",
        "from sklearn.model_selection import train_test_split\n",
        "from sklearn.feature_extraction.text import CountVectorizer, TfidfVectorizer\n",
        "from sklearn.metrics import accuracy_score, confusion_matrix\n",
        "from sklearn.metrics import roc_curve, auc, confusion_matrix, classification_report,accuracy_score\n",
        "from sklearn.svm import SVC, LinearSVC, NuSVC\n",
        "from sklearn.metrics import accuracy_score, precision_score, f1_score, log_loss\n",
        "from sklearn.metrics import classification_report,confusion_matrix, precision_recall_fscore_support "
      ],
      "execution_count": 0,
      "outputs": []
    },
    {
      "cell_type": "code",
      "metadata": {
        "id": "uQShvAm6RA96",
        "colab_type": "code",
        "colab": {}
      },
      "source": [
        "# Run this cell to mount your Google Drive.\n",
        "from google.colab import drive\n",
        "drive.mount('/content/drive')"
      ],
      "execution_count": 0,
      "outputs": []
    },
    {
      "cell_type": "code",
      "metadata": {
        "id": "96EnyTwhRAuy",
        "colab_type": "code",
        "colab": {}
      },
      "source": [
        "model = gensim.models.Word2Vec.load('drive/My Drive/NLPDataset/banglaData')\n",
        "vocab = list(model.wv.vocab.keys())"
      ],
      "execution_count": 0,
      "outputs": []
    },
    {
      "cell_type": "code",
      "metadata": {
        "id": "gs6FFuHhqUtC",
        "colab_type": "code",
        "colab": {}
      },
      "source": [
        "wv = model\n",
        "wv.init_sims(replace=True)\n",
        "from itertools import islice\n",
        "list(islice(vocab, 13030, 13050))"
      ],
      "execution_count": 0,
      "outputs": []
    },
    {
      "cell_type": "code",
      "metadata": {
        "id": "bj7EpCSErP21",
        "colab_type": "code",
        "colab": {}
      },
      "source": [
        "import pandas as pd\n",
        "data = pd.read_csv('drive/My Drive/NLPDataset/banglaTemp.csv', sep='\\t',engine='python')\n",
        "datalist = data.values.tolist()\n",
        "\n",
        "# print(type(datalist))\n",
        "\n",
        "questions = []\n",
        "intents = []\n",
        "\n",
        "ln = len(datalist)\n",
        "for i in range(ln):\n",
        "  questions.append(datalist[i][0])\n",
        "  intents.append(datalist[i][1])\n"
      ],
      "execution_count": 0,
      "outputs": []
    },
    {
      "cell_type": "code",
      "metadata": {
        "id": "fCQSrevIwimL",
        "colab_type": "code",
        "colab": {}
      },
      "source": [
        "def get_sentence_to_vecAvg(model,sentence):\n",
        "  sentence = sentence.split()\n",
        "  #print(sentence)\n",
        "  \n",
        "  vecArray = []\n",
        "  for i in sentence:\n",
        "    if i in model.wv.vocab:\n",
        "      vecArray.append(model.wv[i])\n",
        "  \n",
        "  avg = gensim.matutils.unitvec(np.array(vecArray).mean(axis=0)).astype(np.float32)\n",
        "  return avg\n"
      ],
      "execution_count": 0,
      "outputs": []
    },
    {
      "cell_type": "code",
      "metadata": {
        "id": "OidQFnttrmRa",
        "colab_type": "code",
        "colab": {}
      },
      "source": [
        "vec_questions = []\n",
        "for i in questions:\n",
        "  vec_questions.append(get_sentence_to_vecAvg(model,i))\n",
        "  \n",
        "  \n",
        "X_train, X_test, y_train, y_test = train_test_split(vec_questions, intents, test_size=0.4, random_state = 42)\n",
        "\n",
        "\n",
        "ln = len(X_test)\n",
        "\n",
        "X_test_val = X_test[int(ln/2):ln]\n",
        "X_test = X_test[0:int(ln/2)]\n",
        "\n",
        "y_test_val = y_test[int(ln/2):ln]\n",
        "y_test = y_test[0:int(ln/2)]\n"
      ],
      "execution_count": 0,
      "outputs": []
    },
    {
      "cell_type": "code",
      "metadata": {
        "id": "HQ5GublO5wqC",
        "colab_type": "code",
        "colab": {}
      },
      "source": [
        "from sklearn.linear_model import LogisticRegression\n",
        "logreg = LogisticRegression(n_jobs=1, C=1e5)\n",
        "logreg = logreg.fit(X_train, y_train)\n",
        "\n",
        "\n",
        "y_pred = logreg.predict(X_test)\n",
        "print('accuracy %s' % accuracy_score(y_pred, y_test))\n",
        "print(classification_report(y_test, y_pred))\n",
        "\n",
        "y_pred_val = logreg.predict(X_test_val)\n",
        "print('accuracy %s' % accuracy_score(y_pred_val, y_test_val))\n",
        "print(classification_report(y_test_val, y_pred_val))"
      ],
      "execution_count": 0,
      "outputs": []
    },
    {
      "cell_type": "code",
      "metadata": {
        "id": "UojwXhw-daT3",
        "colab_type": "code",
        "colab": {}
      },
      "source": [
        "clf = NuSVC(nu=.09, degree=5, kernel='rbf', gamma='scale',probability=True)\n"
      ],
      "execution_count": 0,
      "outputs": []
    },
    {
      "cell_type": "code",
      "metadata": {
        "id": "wHyQOC_7dvny",
        "colab_type": "code",
        "colab": {}
      },
      "source": [
        "clf.fit(X_train, y_train)\n",
        "\n",
        "#TEST SET\n",
        "try:\n",
        "  print('****Results****')\n",
        "#   print(X_test)\n",
        "  y_pred = clf.predict(X_test)\n",
        "  print('accuracy %s' % accuracy_score(y_pred, y_test))\n",
        "  print(classification_report(y_test, y_pred))\n",
        "\n",
        "except Exception as e:\n",
        "  print (e)\n",
        "  \n",
        "#VALIDATION SET  \n",
        "try:\n",
        "  print('****Results****')\n",
        "  y_pred_val = clf.predict(X_test_val)\n",
        "  print('accuracy %s' % accuracy_score(y_pred_val, y_test_val))\n",
        "  print(classification_report(y_test_val, y_pred_val))\n",
        "  \n",
        "except Exception as e:\n",
        "  print (e)"
      ],
      "execution_count": 0,
      "outputs": []
    },
    {
      "cell_type": "code",
      "metadata": {
        "id": "gH7Nq9ZGF7Wh",
        "colab_type": "code",
        "colab": {}
      },
      "source": [
        "text = input()\n",
        "print(logreg.predict([get_sentence_to_vecAvg(model,text)])[0])\n",
        "print(clf.predict([get_sentence_to_vecAvg(model,text)])[0])"
      ],
      "execution_count": 0,
      "outputs": []
    }
  ]
}